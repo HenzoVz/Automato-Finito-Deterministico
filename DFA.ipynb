{
  "nbformat": 4,
  "nbformat_minor": 0,
  "metadata": {
    "colab": {
      "name": "DFA.ipynb",
      "version": "0.3.2",
      "provenance": [],
      "include_colab_link": true
    },
    "kernelspec": {
      "name": "python3",
      "display_name": "Python 3"
    }
  },
  "cells": [
    {
      "cell_type": "markdown",
      "metadata": {
        "id": "view-in-github",
        "colab_type": "text"
      },
      "source": [
        "<a href=\"https://colab.research.google.com/github/HenzoVz/Automato-Finito-Deterministico/blob/master/DFA.ipynb\" target=\"_parent\"><img src=\"https://colab.research.google.com/assets/colab-badge.svg\" alt=\"Open In Colab\"/></a>"
      ]
    },
    {
      "cell_type": "code",
      "metadata": {
        "id": "jNK3F0kgTXcJ",
        "colab_type": "code",
        "colab": {}
      },
      "source": [
        "from itertools import chain\n",
        "\n",
        "class AutomatoFinitoDeterministico:\n",
        "\n",
        "    def __init__(self, quantidadeDeEstados):\n",
        "        self.dfa = {}\n",
        "        self.quantidadeDeEstados = quantidadeDeEstados\n",
        "\n",
        "    def criarAutomato(self):\n",
        "        for estado in range(self.quantidadeDeEstados):\n",
        "            self.dfa['Q' + str(estado)] = {}\n",
        "            for transicao in range(2):\n",
        "                self.dfa['Q' + str(estado)][transicao] = 'Q' + str(transicao)\n",
        "        return self.dfa\n",
        "\n",
        "    def validarLinguagem(estadosDeTransicao, estadoInicial, conjuntoDeAceitacao, linguagemDeEntrada):\n",
        "        estadoAtual = estadoInicial\n",
        "        keys = set(chain.from_iterable(i.keys() for i in estadosDeTransicao.values()))\n",
        "        conjuntoBooleano = [int(caractere) in keys for caractere in linguagemDeEntrada]\n",
        "        for idx in range(len(conjuntoBooleano)):\n",
        "\n",
        "          if conjuntoBooleano[idx] != True:\n",
        "              estadoAtual = None\n",
        "              return estadoAtual in conjuntoDeAceitacao\n",
        "          else:\n",
        "               estadoAtual = estadosDeTransicao[estadoAtual][linguagemDeEntrada[idx]]\n",
        "        return estadoAtual in conjuntoDeAceitacao"
      ],
      "execution_count": 0,
      "outputs": []
    },
    {
      "cell_type": "code",
      "metadata": {
        "id": "Npd9j3FhT0pU",
        "colab_type": "code",
        "colab": {}
      },
      "source": [
        "p1 = AutomatoFinitoDeterministico(3).criarAutomato()"
      ],
      "execution_count": 0,
      "outputs": []
    },
    {
      "cell_type": "code",
      "metadata": {
        "id": "y1zkfQFVT4jK",
        "colab_type": "code",
        "outputId": "eab154e8-f8a3-4ee5-bef4-2849d61562b3",
        "colab": {
          "base_uri": "https://localhost:8080/",
          "height": 34
        }
      },
      "source": [
        "#editar estados de transicao\n",
        "p1['Q0'][0] = 'Q0'\n",
        "p1['Q0'][1] = 'Q1'\n",
        "p1['Q1'][0] = 'Q2'\n",
        "p1['Q1'][1] = 'Q0'\n",
        "p1['Q2'][0] = 'Q1'\n",
        "p1['Q2'][1] = 'Q2'\n",
        "p1"
      ],
      "execution_count": 38,
      "outputs": [
        {
          "output_type": "execute_result",
          "data": {
            "text/plain": [
              "{'Q0': {0: 'Q0', 1: 'Q1'}, 'Q1': {0: 'Q2', 1: 'Q0'}, 'Q2': {0: 'Q1', 1: 'Q2'}}"
            ]
          },
          "metadata": {
            "tags": []
          },
          "execution_count": 38
        }
      ]
    },
    {
      "cell_type": "code",
      "metadata": {
        "id": "YLEEuDt4T00s",
        "colab_type": "code",
        "outputId": "b2f5dfbf-dab1-46f2-ef7a-d11da27dbd7c",
        "colab": {
          "base_uri": "https://localhost:8080/",
          "height": 34
        }
      },
      "source": [
        "AutomatoFinitoDeterministico.validarLinguagem(p1, 'Q0', {'Q0'}, [1,0,1,1,1,0,1])"
      ],
      "execution_count": 39,
      "outputs": [
        {
          "output_type": "execute_result",
          "data": {
            "text/plain": [
              "True"
            ]
          },
          "metadata": {
            "tags": []
          },
          "execution_count": 39
        }
      ]
    },
    {
      "cell_type": "code",
      "metadata": {
        "id": "wMu_QhEpeTmr",
        "colab_type": "code",
        "colab": {}
      },
      "source": [
        "p2 = AutomatoFinitoDeterministico(4).criarAutomato()"
      ],
      "execution_count": 0,
      "outputs": []
    },
    {
      "cell_type": "code",
      "metadata": {
        "id": "xvR1jcMEeVhK",
        "colab_type": "code",
        "colab": {
          "base_uri": "https://localhost:8080/",
          "height": 85
        },
        "outputId": "d4233757-3572-4b0e-ae60-e9067072779f"
      },
      "source": [
        "# editar estados de transicao do automato criado\n",
        "p2['Q0'][0] = 'Q2'\n",
        "p2['Q0'][1] = 'Q1'\n",
        "p2['Q1'][0] = 'Q2'\n",
        "p1['Q1'][1] = 'Q0'\n",
        "p2['Q2'][0] = 'Q1'\n",
        "p2['Q2'][1] = 'Q3'\n",
        "p2['Q3'][0] = 'Q1'\n",
        "p2['Q3'][1] = 'Q0'\n",
        "p2"
      ],
      "execution_count": 41,
      "outputs": [
        {
          "output_type": "execute_result",
          "data": {
            "text/plain": [
              "{'Q0': {0: 'Q2', 1: 'Q1'},\n",
              " 'Q1': {0: 'Q2', 1: 'Q1'},\n",
              " 'Q2': {0: 'Q1', 1: 'Q3'},\n",
              " 'Q3': {0: 'Q1', 1: 'Q0'}}"
            ]
          },
          "metadata": {
            "tags": []
          },
          "execution_count": 41
        }
      ]
    },
    {
      "cell_type": "code",
      "metadata": {
        "id": "qolSbscOeXY5",
        "colab_type": "code",
        "colab": {
          "base_uri": "https://localhost:8080/",
          "height": 34
        },
        "outputId": "4718f797-135c-47e0-9cef-58f29f8410f7"
      },
      "source": [
        "print(AutomatoFinitoDeterministico.validarLinguagem(p2, 'Q0', {'Q0', 'Q3'}, [1,0,1]))"
      ],
      "execution_count": 42,
      "outputs": [
        {
          "output_type": "stream",
          "text": [
            "True\n"
          ],
          "name": "stdout"
        }
      ]
    }
  ]
}
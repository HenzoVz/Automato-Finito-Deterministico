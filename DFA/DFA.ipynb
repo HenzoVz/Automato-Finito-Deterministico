{
 "cells": [
  {
   "cell_type": "markdown",
   "metadata": {
    "colab_type": "text",
    "id": "view-in-github"
   },
   "source": [
    "<a href=\"https://colab.research.google.com/github/HenzoVz/Automato-Finito-Deterministico/blob/master/DFA.ipynb\" target=\"_parent\"><img src=\"https://colab.research.google.com/assets/colab-badge.svg\" alt=\"Open In Colab\"/></a>"
   ]
  },
  {
   "cell_type": "code",
   "execution_count": 1,
   "metadata": {
    "colab": {},
    "colab_type": "code",
    "id": "jNK3F0kgTXcJ"
   },
   "outputs": [],
   "source": [
    "from itertools import chain\n",
    "\n",
    "class AutomatoFinitoDeterministico:\n",
    "\n",
    "    def __init__(self, quantidadeDeEstados):\n",
    "        self.dfa = {}\n",
    "        self.quantidadeDeEstados = quantidadeDeEstados\n",
    "\n",
    "    def criarAutomato(self):\n",
    "        for estado in range(self.quantidadeDeEstados):\n",
    "            self.dfa['Q' + str(estado)] = {}\n",
    "            for transicao in range(2):\n",
    "                self.dfa['Q' + str(estado)][transicao] = 'Q' + str(transicao)\n",
    "        return self.dfa\n",
    "\n",
    "    def validarLinguagem(estadosDeTransicao, estadoInicial, conjuntoDeAceitacao, linguagemDeEntrada):\n",
    "        estadoAtual = estadoInicial\n",
    "        keys = set(chain.from_iterable(i.keys() for i in estadosDeTransicao.values()))\n",
    "        conjuntoBooleano = [int(caractere) in keys for caractere in linguagemDeEntrada]\n",
    "        for idx in range(len(conjuntoBooleano)):\n",
    "\n",
    "          if conjuntoBooleano[idx] != True:\n",
    "              estadoAtual = None\n",
    "              return estadoAtual in conjuntoDeAceitacao\n",
    "          else:\n",
    "               estadoAtual = estadosDeTransicao[estadoAtual][linguagemDeEntrada[idx]]\n",
    "        return estadoAtual in conjuntoDeAceitacao"
   ]
  },
  {
   "cell_type": "code",
   "execution_count": 2,
   "metadata": {
    "colab": {},
    "colab_type": "code",
    "id": "Npd9j3FhT0pU"
   },
   "outputs": [],
   "source": [
    "p1 = AutomatoFinitoDeterministico(3).criarAutomato()"
   ]
  },
  {
   "cell_type": "code",
   "execution_count": 9,
   "metadata": {
    "colab": {
     "base_uri": "https://localhost:8080/",
     "height": 34
    },
    "colab_type": "code",
    "id": "y1zkfQFVT4jK",
    "outputId": "eab154e8-f8a3-4ee5-bef4-2849d61562b3"
   },
   "outputs": [
    {
     "data": {
      "text/plain": [
       "{'Q0': {0: 'Q0', 1: 'Q1'}, 'Q1': {0: 'Q2', 1: 'Q0'}, 'Q2': {0: 'Q1', 1: 'Q2'}}"
      ]
     },
     "execution_count": 9,
     "metadata": {},
     "output_type": "execute_result"
    }
   ],
   "source": [
    "#editar estados de transicao\n",
    "p1['Q0'][0] = 'Q0'\n",
    "p1['Q0'][1] = 'Q1'\n",
    "p1['Q1'][0] = 'Q2'\n",
    "p1['Q1'][1] = 'Q0'\n",
    "p1['Q2'][0] = 'Q1'\n",
    "p1['Q2'][1] = 'Q2'\n",
    "p1"
   ]
  },
  {
   "cell_type": "code",
   "execution_count": 4,
   "metadata": {
    "colab": {
     "base_uri": "https://localhost:8080/",
     "height": 34
    },
    "colab_type": "code",
    "id": "YLEEuDt4T00s",
    "outputId": "b2f5dfbf-dab1-46f2-ef7a-d11da27dbd7c"
   },
   "outputs": [
    {
     "data": {
      "text/plain": [
       "True"
      ]
     },
     "execution_count": 4,
     "metadata": {},
     "output_type": "execute_result"
    }
   ],
   "source": [
    "AutomatoFinitoDeterministico.validarLinguagem(p1, 'Q0', {'Q0'}, [1,0,1,1,1,0,1])"
   ]
  },
  {
   "cell_type": "code",
   "execution_count": 5,
   "metadata": {
    "colab": {},
    "colab_type": "code",
    "id": "wMu_QhEpeTmr"
   },
   "outputs": [],
   "source": [
    "p2 = AutomatoFinitoDeterministico(4).criarAutomato()"
   ]
  },
  {
   "cell_type": "code",
   "execution_count": 6,
   "metadata": {
    "colab": {
     "base_uri": "https://localhost:8080/",
     "height": 85
    },
    "colab_type": "code",
    "id": "xvR1jcMEeVhK",
    "outputId": "d4233757-3572-4b0e-ae60-e9067072779f"
   },
   "outputs": [
    {
     "data": {
      "text/plain": [
       "{'Q0': {0: 'Q2', 1: 'Q1'},\n",
       " 'Q1': {0: 'Q2', 1: 'Q1'},\n",
       " 'Q2': {0: 'Q1', 1: 'Q3'},\n",
       " 'Q3': {0: 'Q1', 1: 'Q0'}}"
      ]
     },
     "execution_count": 6,
     "metadata": {},
     "output_type": "execute_result"
    }
   ],
   "source": [
    "# editar estados de transicao do automato criado\n",
    "p2['Q0'][0] = 'Q2'\n",
    "p2['Q0'][1] = 'Q1'\n",
    "p2['Q1'][0] = 'Q2'\n",
    "p1['Q1'][1] = 'Q0'\n",
    "p2['Q2'][0] = 'Q1'\n",
    "p2['Q2'][1] = 'Q3'\n",
    "p2['Q3'][0] = 'Q1'\n",
    "p2['Q3'][1] = 'Q0'\n",
    "p2"
   ]
  },
  {
   "cell_type": "code",
   "execution_count": 7,
   "metadata": {
    "colab": {
     "base_uri": "https://localhost:8080/",
     "height": 34
    },
    "colab_type": "code",
    "id": "qolSbscOeXY5",
    "outputId": "4718f797-135c-47e0-9cef-58f29f8410f7"
   },
   "outputs": [
    {
     "name": "stdout",
     "output_type": "stream",
     "text": [
      "True\n"
     ]
    }
   ],
   "source": [
    "print(AutomatoFinitoDeterministico.validarLinguagem(p2, 'Q0', {'Q0', 'Q3'}, [1,0,1]))"
   ]
  }
 ],
 "metadata": {
  "colab": {
   "include_colab_link": true,
   "name": "DFA.ipynb",
   "provenance": [],
   "version": "0.3.2"
  },
  "kernelspec": {
   "display_name": "Python 3",
   "language": "python",
   "name": "python3"
  },
  "language_info": {
   "codemirror_mode": {
    "name": "ipython",
    "version": 3
   },
   "file_extension": ".py",
   "mimetype": "text/x-python",
   "name": "python",
   "nbconvert_exporter": "python",
   "pygments_lexer": "ipython3",
   "version": "3.6.8"
  }
 },
 "nbformat": 4,
 "nbformat_minor": 1
}

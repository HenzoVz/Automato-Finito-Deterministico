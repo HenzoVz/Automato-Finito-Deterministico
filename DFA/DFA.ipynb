{
  "nbformat": 4,
  "nbformat_minor": 0,
  "metadata": {
    "colab": {
      "name": "DFA.ipynb",
      "provenance": [],
      "include_colab_link": true
    },
    "kernelspec": {
      "name": "python3",
      "display_name": "Python 3"
    }
  },
  "cells": [
    {
      "cell_type": "markdown",
      "metadata": {
        "id": "view-in-github",
        "colab_type": "text"
      },
      "source": [
        "<a href=\"https://colab.research.google.com/github/HenzoVz/Automato-Finito-Deterministico/blob/master/DFA/DFA.ipynb\" target=\"_parent\"><img src=\"https://colab.research.google.com/assets/colab-badge.svg\" alt=\"Open In Colab\"/></a>"
      ]
    },
    {
      "cell_type": "code",
      "metadata": {
        "id": "jNK3F0kgTXcJ",
        "colab_type": "code",
        "colab": {}
      },
      "source": [
        "from itertools import chain\n",
        "\n",
        "class AutomatoFinitoDeterministico:\n",
        "\n",
        "    def __init__(self, quantidadeDeEstados):\n",
        "        self.dfa = {}\n",
        "        self.quantidadeDeEstados = quantidadeDeEstados\n",
        "\n",
        "    def criarAutomato(self):\n",
        "        for estado in range(self.quantidadeDeEstados):\n",
        "            self.dfa['Q' + str(estado)] = {}\n",
        "            for transicao in range(2):\n",
        "                self.dfa['Q' + str(estado)][transicao] = 'Q' + str(transicao)\n",
        "        return self.dfa\n",
        "\n",
        "    def validarLinguagem(estadosDeTransicao, estadoInicial, conjuntoDeAceitacao, linguagemDeEntrada):\n",
        "        estadoAtual = estadoInicial\n",
        "        keys = set(chain.from_iterable(i.keys() for i in estadosDeTransicao.values()))\n",
        "        conjuntoBooleano = [int(caractere) in keys for caractere in linguagemDeEntrada]\n",
        "        for idx in range(len(conjuntoBooleano)):\n",
        "\n",
        "          if conjuntoBooleano[idx] != True:\n",
        "              estadoAtual = None\n",
        "              print(f\"Caractere {linguagemDeEntrada[idx]} negado\")\n",
        "              return estadoAtual in conjuntoDeAceitacao\n",
        "          else:\n",
        "               estadoAtual = estadosDeTransicao[estadoAtual][linguagemDeEntrada[idx]]\n",
        "               print(f\"Estado ... {estadoAtual} quando caractere {linguagemDeEntrada[idx]}\")\n",
        "        return estadoAtual in conjuntoDeAceitacao"
      ],
      "execution_count": 0,
      "outputs": []
    },
    {
      "cell_type": "code",
      "metadata": {
        "id": "Npd9j3FhT0pU",
        "colab_type": "code",
        "colab": {}
      },
      "source": [
        "p1 = AutomatoFinitoDeterministico(3).criarAutomato()"
      ],
      "execution_count": 0,
      "outputs": []
    },
    {
      "cell_type": "code",
      "metadata": {
        "id": "y1zkfQFVT4jK",
        "colab_type": "code",
        "outputId": "1650a0a9-7687-470c-bddd-658bcb3b7012",
        "colab": {
          "base_uri": "https://localhost:8080/",
          "height": 34
        }
      },
      "source": [
        "#editar estados de transicao\n",
        "p1['Q0'][0] = 'Q0'\n",
        "p1['Q0'][1] = 'Q1'\n",
        "p1['Q1'][0] = 'Q2'\n",
        "p1['Q1'][1] = 'Q0'\n",
        "p1['Q2'][0] = 'Q1'\n",
        "p1['Q2'][1] = 'Q2'\n",
        "p1"
      ],
      "execution_count": 152,
      "outputs": [
        {
          "output_type": "execute_result",
          "data": {
            "text/plain": [
              "{'Q0': {0: 'Q0', 1: 'Q1'}, 'Q1': {0: 'Q2', 1: 'Q0'}, 'Q2': {0: 'Q1', 1: 'Q2'}}"
            ]
          },
          "metadata": {
            "tags": []
          },
          "execution_count": 152
        }
      ]
    },
    {
      "cell_type": "code",
      "metadata": {
        "id": "YLEEuDt4T00s",
        "colab_type": "code",
        "outputId": "c7852727-8584-4a9c-de81-ed294b2907f0",
        "colab": {
          "base_uri": "https://localhost:8080/",
          "height": 68
        }
      },
      "source": [
        "AutomatoFinitoDeterministico.validarLinguagem(p1, 'Q0', {'Q0'}, [1,2,0,1,1,1,0,1])"
      ],
      "execution_count": 153,
      "outputs": [
        {
          "output_type": "stream",
          "text": [
            "Estado ... Q1 quando caractere 1\n",
            "Caractere 2 negado\n"
          ],
          "name": "stdout"
        },
        {
          "output_type": "execute_result",
          "data": {
            "text/plain": [
              "False"
            ]
          },
          "metadata": {
            "tags": []
          },
          "execution_count": 153
        }
      ]
    },
    {
      "cell_type": "code",
      "metadata": {
        "id": "wMu_QhEpeTmr",
        "colab_type": "code",
        "colab": {}
      },
      "source": [
        "p2 = AutomatoFinitoDeterministico(4).criarAutomato()"
      ],
      "execution_count": 0,
      "outputs": []
    },
    {
      "cell_type": "code",
      "metadata": {
        "id": "xvR1jcMEeVhK",
        "colab_type": "code",
        "outputId": "86849903-c754-4023-f809-2cbc1c42bb2a",
        "colab": {
          "base_uri": "https://localhost:8080/",
          "height": 85
        }
      },
      "source": [
        "# editar estados de transicao do automato criado\n",
        "p2['Q0'][0] = 'Q2'\n",
        "p2['Q0'][1] = 'Q1'\n",
        "p2['Q1'][0] = 'Q2'\n",
        "p1['Q1'][1] = 'Q0'\n",
        "p2['Q2'][0] = 'Q1'\n",
        "p2['Q2'][1] = 'Q3'\n",
        "p2['Q3'][0] = 'Q1'\n",
        "p2['Q3'][1] = 'Q0'\n",
        "p2"
      ],
      "execution_count": 155,
      "outputs": [
        {
          "output_type": "execute_result",
          "data": {
            "text/plain": [
              "{'Q0': {0: 'Q2', 1: 'Q1'},\n",
              " 'Q1': {0: 'Q2', 1: 'Q1'},\n",
              " 'Q2': {0: 'Q1', 1: 'Q3'},\n",
              " 'Q3': {0: 'Q1', 1: 'Q0'}}"
            ]
          },
          "metadata": {
            "tags": []
          },
          "execution_count": 155
        }
      ]
    },
    {
      "cell_type": "code",
      "metadata": {
        "id": "qolSbscOeXY5",
        "colab_type": "code",
        "outputId": "accad3a9-610a-4ead-9c43-e8455bf2bc7b",
        "colab": {
          "base_uri": "https://localhost:8080/",
          "height": 85
        }
      },
      "source": [
        "print(AutomatoFinitoDeterministico.validarLinguagem(p2, 'Q0', {'Q0', 'Q3'}, [1,0,1]))"
      ],
      "execution_count": 156,
      "outputs": [
        {
          "output_type": "stream",
          "text": [
            "Estado ... Q1 quando caractere 1\n",
            "Estado ... Q2 quando caractere 0\n",
            "Estado ... Q3 quando caractere 1\n",
            "True\n"
          ],
          "name": "stdout"
        }
      ]
    }
  ]
}